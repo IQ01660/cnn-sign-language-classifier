{
 "cells": [
  {
   "cell_type": "markdown",
   "metadata": {},
   "source": [
    "# Sign Language Classification"
   ]
  },
  {
   "cell_type": "markdown",
   "metadata": {},
   "source": [
    "### Dataset Source\n",
    "https://www.kaggle.com/datamunge/sign-language-mnist\n",
    "\n",
    "### Dataset Description\n",
    "\n",
    "In this project I am using a dataset that contains images (actually their grayscale pixel values); each image represents a certain letter from A to Y in the sign language.\n",
    "The dataset does not contain any data on J or Z letters, as those have **motion** involved\n",
    "when translated into sign language. Images are 28 by 28 pixels, and there are a total of 34627 of them in the dataset.\n",
    "\n",
    "If one is interested in learning more about this they can visit the following page where they can translate text into how it would look in the sign language:\n",
    "https://wecapable.com/tools/text-to-sign-language-converter/.\n",
    "\n",
    "\n",
    "### Motivation\n",
    "\n",
    "After doing some research on this topic, I did not find a lot of applications that would do the reverse, i.e. translate images of signs into what they mean in English. Therefore, I decided to utilize some image processing techniques along with different classification algorithms to accomplish this task, although only with digits for now.\n",
    "\n",
    "### Goal\n",
    "\n",
    "My goal in this project is to compare the accuracies on the test set of the following models:\n",
    "SVM, MLP, and CNN. I expect CNN to perform better than the two other models, as Convolutional Neural Networks have proved to be more efficient in image classification tasks. Another goal is to build some kind of majority-vote ensemble, where the decision of the model with the highest accuracy, will be \"vetoed\" if the other two models' predictions are the same and differ from that of the best performing model. I decided to go with this ensemble model instead of the usual majority-vote ensemble, due to - as will be seen below - low test accuracy of one of the models.\n",
    "\n",
    "### Tensorflow\n",
    "\n",
    "Note that this project uses tensorflow in order to build a CNN model; therefore, tensorflow\n",
    "needs to be installed using *pip* for example.\n",
    "\n",
    "## Preparing the Dataset\n",
    "\n",
    "Here, we take the csv files that contain train and test data for our application.\n",
    "Some basic imports of numpy and matplotlib.pyplot are also done and will be used along the way"
   ]
  },
  {
   "cell_type": "code",
   "execution_count": 1,
   "metadata": {},
   "outputs": [],
   "source": [
    "############################################\n",
    "# Using a dataset with \n",
    "# Letters instead of Digits in Sign Language\n",
    "############################################\n",
    "\n",
    "import numpy as np\n",
    "import matplotlib.pyplot as plt\n",
    "import pandas as pd\n",
    "\n",
    "## loading the csv file\n",
    "X_TRAIN = pd.read_csv('./sign_mnist_train.csv')\n",
    "X_TEST = pd.read_csv('./sign_mnist_test.csv')"
   ]
  },
  {
   "cell_type": "markdown",
   "metadata": {},
   "source": [
    "### Getting the feature matrices and target vectors\n",
    "\n",
    "We also adjust the target vectors so that all labels of 24 get the value of 9, to account\n",
    "for the missing J letter in the middle of the alphabet (the reason behind this was explained above)."
   ]
  },
  {
   "cell_type": "code",
   "execution_count": 2,
   "metadata": {},
   "outputs": [],
   "source": [
    "############################################\n",
    "# NOTE: I am changing target value of 24 to 9\n",
    "# because the value 9 is skipped \n",
    "# in possible target values\n",
    "############################################\n",
    "\n",
    "## getting the target vector for training set\n",
    "target_train = X_TRAIN[\"label\"]\n",
    "target_train[target_train == 24] = 9\n",
    "target_train = target_train.to_numpy()\n",
    "\n",
    "## getting the feature matrix for training set\n",
    "feature_matrix_train = X_TRAIN.drop(\"label\", axis=1)\n",
    "feature_matrix_train = feature_matrix_train.to_numpy() / 255\n",
    "\n",
    "## getting the target vector for testing set\n",
    "target_test = X_TEST[\"label\"]\n",
    "target_test[target_test == 24] = 9\n",
    "target_test = target_test.to_numpy()\n",
    "\n",
    "## getting the feature matrix for testing set\n",
    "feature_matrix_test = X_TEST.drop(\"label\", axis=1)\n",
    "feature_matrix_test = feature_matrix_test.to_numpy() / 255"
   ]
  },
  {
   "cell_type": "markdown",
   "metadata": {},
   "source": [
    "### Getting familiar with a sample\n",
    "\n",
    "Here we take a single example feature vector that contains a flattened list of \n",
    "pixel grayscale values. We, then, reshape this vector into a 28x28 matrix to display it\n",
    "with the help of plt.imshow()"
   ]
  },
  {
   "cell_type": "code",
   "execution_count": 3,
   "metadata": {
    "scrolled": true
   },
   "outputs": [
    {
     "name": "stdout",
     "output_type": "stream",
     "text": [
      "The target of this example is:  3\n"
     ]
    },
    {
     "data": {
      "image/png": "[encoded data removed]",
      "text/plain": [
       "<Figure size 432x288 with 1 Axes>"
      ]
     },
     "metadata": {
      "needs_background": "light"
     },
     "output_type": "display_data"
    }
   ],
   "source": [
    "############################################\n",
    "# Taking a look at an example image\n",
    "############################################\n",
    "\n",
    "## Here I am also going to initialize a variable IMG_SIZE\n",
    "## which I 'll use later as well\n",
    "## it is just the number of pixels on each side of a square image\n",
    "IMG_SIZE = 28\n",
    "\n",
    "plt.imshow(feature_matrix_train[0].reshape((IMG_SIZE, IMG_SIZE)))\n",
    "\n",
    "print(\"The target of this example is: \", target_train[0])"
   ]
  },
  {
   "cell_type": "markdown",
   "metadata": {},
   "source": [
    "As we can see in the image below that example \n",
    "above corresponds to the letter D, i.e. 3, \n",
    "cause we start counting labels from 0"
   ]
  },
  {
   "cell_type": "code",
   "execution_count": 4,
   "metadata": {},
   "outputs": [],
   "source": [
    "############################################\n",
    "# Because A - 0, B - 1, C - 2, and D - 3\n",
    "# We can conclude that the target of the above feature vector makes sense\n",
    "############################################"
   ]
  },
  {
   "cell_type": "markdown",
   "metadata": {},
   "source": [
    "![image](./amer_sign2.png)"
   ]
  },
  {
   "cell_type": "markdown",
   "metadata": {},
   "source": [
    "Here we are importing SVC for the SVM model, PCA (Principal Component Analysis) for feature extraction, and other modules for building pipelines and assesing a model"
   ]
  },
  {
   "cell_type": "code",
   "execution_count": 5,
   "metadata": {},
   "outputs": [],
   "source": [
    "# model imports - sklearn\n",
    "from sklearn.svm import SVC\n",
    "\n",
    "# dimensionality reduction\n",
    "from sklearn.decomposition import PCA\n",
    "\n",
    "# pipeline\n",
    "from sklearn.pipeline import make_pipeline\n",
    "\n",
    "# for k-fold cross validation\n",
    "from sklearn.model_selection import cross_val_score "
   ]
  },
  {
   "cell_type": "markdown",
   "metadata": {},
   "source": [
    "# SVM model"
   ]
  },
  {
   "cell_type": "code",
   "execution_count": 6,
   "metadata": {},
   "outputs": [],
   "source": [
    "############################################\n",
    "# Building a pipeline with SVM and PCA\n",
    "############################################\n",
    "\n",
    "pipe_svm = make_pipeline(PCA(n_components=50, random_state=1),\n",
    "                         SVC(kernel='rbf', C=10, gamma='scale', random_state=1))"
   ]
  },
  {
   "cell_type": "code",
   "execution_count": 7,
   "metadata": {},
   "outputs": [],
   "source": [
    "############################################\n",
    "# features and targets are in the right format\n",
    "# so we don't change anything for those here\n",
    "############################################\n",
    "\n",
    "X_train = feature_matrix_train\n",
    "y_train = target_train\n",
    "\n",
    "X_test = feature_matrix_test\n",
    "y_test = target_test"
   ]
  },
  {
   "cell_type": "markdown",
   "metadata": {},
   "source": [
    "Here I am running a K-fold cross validation to tweak the regularization of the SVM model\n",
    ",and I got the highest accuracy when C=10"
   ]
  },
  {
   "cell_type": "code",
   "execution_count": 8,
   "metadata": {},
   "outputs": [
    {
     "name": "stdout",
     "output_type": "stream",
     "text": [
      "CV accuracy scores: [1.         1.         1.         1.         0.99963583 1.\n",
      " 1.         1.         1.         1.        ]\n",
      "CV accuracy: 1.000 +/- 0.000\n"
     ]
    }
   ],
   "source": [
    "############################################\n",
    "# K fold cross validation (k = 10)\n",
    "############################################\n",
    "\n",
    "scores_svm = cross_val_score(estimator=pipe_svm,\n",
    "                          X=X_train,\n",
    "                          y=y_train,\n",
    "                          cv=10,\n",
    "                          n_jobs=-1) ## using all CPUs\n",
    "print('CV accuracy scores: %s' % scores_svm)\n",
    "print('CV accuracy: %.3f +/- %.3f' % (np.mean(scores_svm), np.std(scores_svm)))"
   ]
  },
  {
   "cell_type": "code",
   "execution_count": 9,
   "metadata": {
    "scrolled": true
   },
   "outputs": [
    {
     "data": {
      "text/plain": [
       "Pipeline(steps=[('pca', PCA(n_components=50, random_state=1)),\n",
       "                ('svc', SVC(C=10, random_state=1))])"
      ]
     },
     "execution_count": 9,
     "metadata": {},
     "output_type": "execute_result"
    }
   ],
   "source": [
    "## fitting the model with the training data\n",
    "\n",
    "pipe_svm.fit(X_train, y_train)"
   ]
  },
  {
   "cell_type": "code",
   "execution_count": 10,
   "metadata": {},
   "outputs": [
    {
     "name": "stdout",
     "output_type": "stream",
     "text": [
      "accuracy: 0.8784160624651423\n"
     ]
    }
   ],
   "source": [
    "from sklearn.metrics import accuracy_score\n",
    "\n",
    "y_pred_svm = pipe_svm.predict(X_test)\n",
    "\n",
    "print(\"accuracy: \" + str(accuracy_score(y_test, y_pred_svm)))"
   ]
  },
  {
   "cell_type": "markdown",
   "metadata": {},
   "source": [
    "We can see the model is somewhat overfitting the data, as observed from the discrepancy between the validation and test accuracy scores. Nevertheless, as we 'll see a bit later, this result is actually good enough."
   ]
  },
  {
   "cell_type": "markdown",
   "metadata": {},
   "source": [
    "# Convolutional Neural Network"
   ]
  },
  {
   "cell_type": "markdown",
   "metadata": {},
   "source": [
    "Because we are using a Convolution Neural Network for image classification, we need to reshape our feature matrices so that they have the following final shapes (# of examples, 28 ,28, 1) - where the last dimension is 1 as we are using grayscale pixel values.\n",
    "\n",
    "Following this we join targets with feature matrices in tensorflow Datasets and batch them. (done for the test set a bit later)"
   ]
  },
  {
   "cell_type": "code",
   "execution_count": 11,
   "metadata": {},
   "outputs": [],
   "source": [
    "import tensorflow as tf\n",
    "\n",
    "############################################\n",
    "# getting the data into the right shape\n",
    "############################################\n",
    "\n",
    "# feature matrices have to be adjusted\n",
    "# removed ONE from dim\n",
    "X_train_cnn = feature_matrix_train.reshape(-1, IMG_SIZE, IMG_SIZE, 1)\n",
    "\n",
    "X_validation_cnn = X_train_cnn[:2746]\n",
    "X_train_cnn = X_train_cnn[2746:]\n",
    "\n",
    "X_test_cnn = feature_matrix_test.reshape(-1, IMG_SIZE, IMG_SIZE, 1)\n",
    "\n",
    "# target vectors are unchanged\n",
    "y_train_cnn = target_train\n",
    "\n",
    "y_validation_cnn = y_train_cnn[:2746]\n",
    "y_train_cnn = y_train_cnn[2746:]\n",
    "\n",
    "y_test_cnn = target_test\n",
    "\n",
    "## putting everything into a Tensorflow Dataset\n",
    "X_train_cnn_new = tf.data.Dataset.from_tensor_slices((X_train_cnn, y_train_cnn))\n",
    "X_train_cnn_new = X_train_cnn_new.batch(32)\n",
    "\n",
    "validation_cnn_new = tf.data.Dataset.from_tensor_slices((X_validation_cnn, y_validation_cnn))\n",
    "validation_cnn_new = validation_cnn_new.batch(32)"
   ]
  },
  {
   "cell_type": "markdown",
   "metadata": {},
   "source": [
    "Notice that above we are also creating a validation set from the ten percent of the training set\n",
    "\n",
    "Now, we are creating a Sequantial model using Keras, which is a wrapper around he Tensorflow,\n",
    "and we add layers to this model.\n",
    "\n",
    "The first three layers include Convolutional 2D and Max Pooling layers.\n",
    "Following this we flatten the input into two more \"dense\" layers.\n",
    "Only the last layer has softmax activation units (to get probability values in an OvR kind of sense).\n",
    "All other layers have Rectified Linear Unit activation functions which have proved to lead to better results in CNNs"
   ]
  },
  {
   "cell_type": "code",
   "execution_count": 12,
   "metadata": {
    "scrolled": true
   },
   "outputs": [
    {
     "name": "stdout",
     "output_type": "stream",
     "text": [
      "Model: \"sequential\"\n",
      "_________________________________________________________________\n",
      "Layer (type)                 Output Shape              Param #   \n",
      "=================================================================\n",
      "conv2d (Conv2D)              (None, 26, 26, 28)        280       \n",
      "_________________________________________________________________\n",
      "max_pooling2d (MaxPooling2D) (None, 13, 13, 28)        0         \n",
      "_________________________________________________________________\n",
      "conv2d_1 (Conv2D)            (None, 11, 11, 128)       32384     \n",
      "_________________________________________________________________\n",
      "max_pooling2d_1 (MaxPooling2 (None, 5, 5, 128)         0         \n",
      "_________________________________________________________________\n",
      "conv2d_2 (Conv2D)            (None, 3, 3, 64)          73792     \n",
      "_________________________________________________________________\n",
      "max_pooling2d_2 (MaxPooling2 (None, 1, 1, 64)          0         \n",
      "_________________________________________________________________\n",
      "flatten (Flatten)            (None, 64)                0         \n",
      "_________________________________________________________________\n",
      "dense (Dense)                (None, 64)                4160      \n",
      "_________________________________________________________________\n",
      "dense_1 (Dense)              (None, 24)                1560      \n",
      "=================================================================\n",
      "Total params: 112,176\n",
      "Trainable params: 112,176\n",
      "Non-trainable params: 0\n",
      "_________________________________________________________________\n"
     ]
    }
   ],
   "source": [
    "from tensorflow.keras import models, layers\n",
    "\n",
    "#### initialize a sequential model\n",
    "cnn = models.Sequential()\n",
    "\n",
    "#### 1st convolutional and pooling layers\n",
    "#### Note: the input size is (28, 28, 1)\n",
    "cnn.add(layers.Conv2D(filters=IMG_SIZE, kernel_size=(3, 3),\n",
    "                          activation='relu',\n",
    "                          input_shape=(IMG_SIZE, IMG_SIZE, 1)))\n",
    "cnn.add(layers.MaxPooling2D(pool_size=(2, 2)))\n",
    "\n",
    "#### 2nd convolutional and pooling layers\n",
    "\n",
    "cnn.add(layers.Conv2D(filters=128, kernel_size=(3, 3),\n",
    "                          activation='relu'))\n",
    "\n",
    "cnn.add(layers.MaxPooling2D(pool_size=(2, 2)))\n",
    "\n",
    "#### 3rd convolutional and pooling layers\n",
    "cnn.add(layers.Conv2D(filters=64, kernel_size=(3, 3),\n",
    "                          activation='relu'))\n",
    "cnn.add(layers.MaxPooling2D(pool_size=(2, 2)))\n",
    "\n",
    "# flattening layer here, as no more Conv2D layers\n",
    "cnn.add(layers.Flatten())\n",
    "\n",
    "# dense layers\n",
    "cnn.add(layers.Dense(units=64, activation='relu'))\n",
    "cnn.add(layers.Dense(units=24, activation='softmax'))\n",
    "\n",
    "# print the summary of the model\n",
    "cnn.summary()"
   ]
  },
  {
   "cell_type": "code",
   "execution_count": 13,
   "metadata": {},
   "outputs": [],
   "source": [
    "# Performing the build operation on CNN model\n",
    "tf.random.set_seed(13)\n",
    "cnn.build(input_shape=(None, IMG_SIZE, IMG_SIZE, 1))"
   ]
  },
  {
   "cell_type": "markdown",
   "metadata": {},
   "source": [
    "Here we are using the Adam optimizer which will adjust the regularization parameters by default"
   ]
  },
  {
   "cell_type": "code",
   "execution_count": 14,
   "metadata": {},
   "outputs": [],
   "source": [
    "# compiling the model to tensorflow from keras\n",
    "cnn.compile(optimizer='adam', \n",
    "            loss=tf.keras.losses.SparseCategoricalCrossentropy(),\n",
    "            metrics=['sparse_categorical_accuracy'])"
   ]
  },
  {
   "cell_type": "markdown",
   "metadata": {},
   "source": [
    "Now we are fitting the model by putting the the tensorflow Dataset we created earlier and letting the model train over 5 epochs"
   ]
  },
  {
   "cell_type": "code",
   "execution_count": 15,
   "metadata": {
    "scrolled": false
   },
   "outputs": [
    {
     "name": "stdout",
     "output_type": "stream",
     "text": [
      "Epoch 1/5\n",
      "773/773 [==============================] - 9s 11ms/step - loss: 1.5327 - sparse_categorical_accuracy: 0.5128 - val_loss: 0.5984 - val_sparse_categorical_accuracy: 0.8044\n",
      "Epoch 2/5\n",
      "773/773 [==============================] - 9s 12ms/step - loss: 0.4102 - sparse_categorical_accuracy: 0.8643 - val_loss: 0.2148 - val_sparse_categorical_accuracy: 0.9421\n",
      "Epoch 3/5\n",
      "773/773 [==============================] - 9s 12ms/step - loss: 0.1400 - sparse_categorical_accuracy: 0.9624 - val_loss: 0.0579 - val_sparse_categorical_accuracy: 0.9920\n",
      "Epoch 4/5\n",
      "773/773 [==============================] - 11s 14ms/step - loss: 0.0476 - sparse_categorical_accuracy: 0.9903 - val_loss: 0.0249 - val_sparse_categorical_accuracy: 0.9964\n",
      "Epoch 5/5\n",
      "773/773 [==============================] - 10s 13ms/step - loss: 0.0264 - sparse_categorical_accuracy: 0.9942 - val_loss: 0.0129 - val_sparse_categorical_accuracy: 0.9978\n"
     ]
    },
    {
     "data": {
      "text/plain": [
       "<tensorflow.python.keras.callbacks.History at 0x7fab52d97940>"
      ]
     },
     "execution_count": 15,
     "metadata": {},
     "output_type": "execute_result"
    }
   ],
   "source": [
    "####################\n",
    "# Fitting\n",
    "####################\n",
    "cnn.fit(X_train_cnn_new, validation_data=validation_cnn_new, epochs=5)"
   ]
  },
  {
   "cell_type": "markdown",
   "metadata": {},
   "source": [
    "As we can see it looks like our model has the maximum accuracy on the validation set\n",
    "So now, let's actually see what the accuracy is on the test set"
   ]
  },
  {
   "cell_type": "code",
   "execution_count": 16,
   "metadata": {},
   "outputs": [
    {
     "name": "stdout",
     "output_type": "stream",
     "text": [
      "225/225 [==============================] - 1s 3ms/step - loss: 0.4315 - sparse_categorical_accuracy: 0.8830\n",
      "----------------\n",
      "Test Loss: \n",
      "0.4315030574798584\n",
      "----------------\n",
      "Test Accuracy: \n",
      "0.8830173015594482\n"
     ]
    }
   ],
   "source": [
    "##############################\n",
    "# Evaluation of the Test Set\n",
    "##############################\n",
    "\n",
    "testing_dataset = tf.data.Dataset.from_tensor_slices((X_test_cnn, y_test_cnn)).batch(32)\n",
    "\n",
    "\n",
    "loss, accuracy = cnn.evaluate(testing_dataset, verbose=1)\n",
    "\n",
    "print(\"----------------\")\n",
    "print(\"Test Loss: \")\n",
    "print(loss)\n",
    "print(\"----------------\")\n",
    "print(\"Test Accuracy: \")\n",
    "print(accuracy)"
   ]
  },
  {
   "cell_type": "markdown",
   "metadata": {},
   "source": [
    "We get something similar to what we had with the SVM model, where the Test Accuracy is not well predicted by the Validation Accuracy score.\n",
    "\n",
    "An explanation to this could be that the dataset that I took from the source given at the top of the notebook is itself already divided into a test and a training sets, which means that they might end up having some general differences in them; and this might evetually lead to some overfitting of the training data"
   ]
  },
  {
   "cell_type": "markdown",
   "metadata": {},
   "source": [
    "# MLP model"
   ]
  },
  {
   "cell_type": "markdown",
   "metadata": {},
   "source": [
    "Finally, let's test the MultiLayer Perceptron model. Note MLP model was also tested in the Prototype assignment, although without Principal Component Analysis. (it performed poorly due to a large number of features)\n",
    "\n",
    "Here we create a pipeline from PCA and the MLPClassifier:"
   ]
  },
  {
   "cell_type": "code",
   "execution_count": 17,
   "metadata": {},
   "outputs": [],
   "source": [
    "##################################\n",
    "# Building the MLP and PCA pipe\n",
    "##################################\n",
    "\n",
    "from sklearn.neural_network import MLPClassifier\n",
    "pipe_mlp = make_pipeline(PCA(n_components=100, random_state=1),\n",
    "                         MLPClassifier(solver='adam', \n",
    "                                       alpha=1e-5, \n",
    "                                       hidden_layer_sizes=(100, 100, 50), \n",
    "                                       random_state=1))"
   ]
  },
  {
   "cell_type": "markdown",
   "metadata": {},
   "source": [
    "Because the MLPClassifier requires targets to be one hot encoded, we need to adapt our target vectors."
   ]
  },
  {
   "cell_type": "code",
   "execution_count": 18,
   "metadata": {},
   "outputs": [],
   "source": [
    "##########################################\n",
    "# Getting the data into the right\n",
    "# format by making targets one hot encoded\n",
    "##########################################\n",
    "\n",
    "y_list = y_train_cnn.tolist()\n",
    "y_list_validation = y_validation_cnn.tolist()\n",
    "y_list_test = y_test_cnn.tolist()"
   ]
  },
  {
   "cell_type": "code",
   "execution_count": 19,
   "metadata": {},
   "outputs": [],
   "source": [
    "for i, label in enumerate(y_list):\n",
    "    y_list[i] = np.zeros(24)\n",
    "    y_list[i][label] = 1\n",
    "\n",
    "for i, label in enumerate(y_list_test):\n",
    "    y_list_test[i] = np.zeros(24)\n",
    "    y_list_test[i][label] = 1\n",
    "    \n",
    "for i, label in enumerate(y_list_validation):\n",
    "    y_list_validation[i] = np.zeros(24)\n",
    "    y_list_validation[i][label] = 1"
   ]
  },
  {
   "cell_type": "code",
   "execution_count": 20,
   "metadata": {},
   "outputs": [],
   "source": [
    "## targets in the right format\n",
    "y_train_mlp = np.array(y_list)\n",
    "y_validation_mlp = np.array(y_list_validation)\n",
    "y_test_mlp = np.array(y_list_test)"
   ]
  },
  {
   "cell_type": "code",
   "execution_count": 21,
   "metadata": {},
   "outputs": [
    {
     "data": {
      "text/plain": [
       "Pipeline(steps=[('pca', PCA(n_components=100, random_state=1)),\n",
       "                ('mlpclassifier',\n",
       "                 MLPClassifier(alpha=1e-05, hidden_layer_sizes=(100, 100, 50),\n",
       "                               random_state=1))])"
      ]
     },
     "execution_count": 21,
     "metadata": {},
     "output_type": "execute_result"
    }
   ],
   "source": [
    "####################\n",
    "# Fitting\n",
    "####################\n",
    "pipe_mlp.fit(X_train_cnn.reshape(-1, IMG_SIZE * IMG_SIZE), y_train_mlp)"
   ]
  },
  {
   "cell_type": "code",
   "execution_count": 22,
   "metadata": {
    "scrolled": true
   },
   "outputs": [
    {
     "name": "stdout",
     "output_type": "stream",
     "text": [
      "Validation accuracy: 1.0\n"
     ]
    }
   ],
   "source": [
    "##############################\n",
    "# Evaluation of the Validation Set\n",
    "##############################\n",
    "\n",
    "y_valid_mlp_pred = pipe_mlp.predict(X_validation_cnn.reshape(-1, IMG_SIZE * IMG_SIZE))\n",
    "\n",
    "print(\"Validation accuracy: \" + str(accuracy_score(y_validation_mlp, y_valid_mlp_pred)))"
   ]
  },
  {
   "cell_type": "code",
   "execution_count": 23,
   "metadata": {},
   "outputs": [
    {
     "name": "stdout",
     "output_type": "stream",
     "text": [
      "Validation accuracy: 0.6466815393195762\n"
     ]
    }
   ],
   "source": [
    "##############################\n",
    "# Evaluation of the Test Set\n",
    "##############################\n",
    "\n",
    "y_pred_mlp = pipe_mlp.predict(X_test)\n",
    "\n",
    "print(\"Validation accuracy: \" + str(accuracy_score(y_test_mlp, y_pred_mlp)))"
   ]
  },
  {
   "cell_type": "markdown",
   "metadata": {},
   "source": [
    "We can conclude here that CNN and SVM perform better than the MLP model for this dataset. Moreover, the fact that, in the case of MLP, we also observe overfitting, further supports the claim I made above after seeing the discrepancy between Validation and Training Accuracies of SVM and CNN models"
   ]
  },
  {
   "cell_type": "markdown",
   "metadata": {},
   "source": [
    "# Estimating Majority Vote Ensemble Accuracy"
   ]
  },
  {
   "cell_type": "markdown",
   "metadata": {},
   "source": [
    "Here, I am performing several operations on the predicted target vectors from the three models above to estimate if the ensemble model I mentioned in the intro section would improve the accuracy we saw from SVM and CNN.\n",
    "\n",
    "Thus, if the predicted labels of SVM and MLP match and are different from that of CNN, then the ensemble \"votes\" for the SVM/MLP label. Otherwise, we go for CNN's predicted label"
   ]
  },
  {
   "cell_type": "code",
   "execution_count": 24,
   "metadata": {},
   "outputs": [],
   "source": [
    "###############################################\n",
    "# Building my own Majority Vote Ensemble \n",
    "# For accuracy prediction of the test data\n",
    "###############################################\n",
    "\n",
    "def predict_majority_vote_accuracy():\n",
    "    cnn_pred = np.argmax(cnn.predict(testing_dataset), axis=1)\n",
    "    svm_pred = pipe_svm.predict(X_test)\n",
    "    mlp_pred = np.argmax(pipe_mlp.predict(X_test), axis=1)\n",
    "    \n",
    "    set_pred = np.vstack((cnn_pred, svm_pred, mlp_pred)).tolist()\n",
    "    \n",
    "    vote_pred = []\n",
    "    \n",
    "    for i in range(cnn_pred.size):\n",
    "        toAppend = set_pred[0][i]\n",
    "        if set_pred[1][i] == set_pred[2][i]:\n",
    "            toAppend = set_pred[1][i]\n",
    "        vote_pred.append(toAppend)\n",
    "        \n",
    "    final_vote = np.array(vote_pred)\n",
    "    print(\"accuracy: \" + str(accuracy_score(y_test, final_vote)))\n",
    "            "
   ]
  },
  {
   "cell_type": "code",
   "execution_count": 25,
   "metadata": {},
   "outputs": [
    {
     "name": "stdout",
     "output_type": "stream",
     "text": [
      "accuracy: 0.8824595649749024\n"
     ]
    }
   ],
   "source": [
    "predict_majority_vote_accuracy()"
   ]
  },
  {
   "cell_type": "markdown",
   "metadata": {},
   "source": [
    "Although the estimate of the testing accuracy of this ensemble is slightly higher than those of SVM and CNN, the difference is really insignificant. Therefore, one might just use CNN (in practice, if we have larger feature vectors than here, we should expect the accuracy of SVM to decrease relative to CNN) for an application where we want to translate sign language into English, for example."
   ]
  },
  {
   "cell_type": "markdown",
   "metadata": {},
   "source": [
    "Something that can be done to actually fully develop such an application would be to introduce object and motion detection to be able to locate a hand in an image with more objects around it and to enable the translation of signs that involve motion, e.g. letters I and Z, as was mentioned in the introduction."
   ]
  }
 ],
 "metadata": {
  "kernelspec": {
   "display_name": "Python 3",
   "language": "python",
   "name": "python3"
  },
  "language_info": {
   "codemirror_mode": {
    "name": "ipython",
    "version": 3
   },
   "file_extension": ".py",
   "mimetype": "text/x-python",
   "name": "python",
   "nbconvert_exporter": "python",
   "pygments_lexer": "ipython3",
   "version": "3.8.3"
  }
 },
 "nbformat": 4,
 "nbformat_minor": 4
}
